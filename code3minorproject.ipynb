{
  "nbformat": 4,
  "nbformat_minor": 0,
  "metadata": {
    "colab": {
      "provenance": [],
      "collapsed_sections": []
    },
    "kernelspec": {
      "name": "python3",
      "display_name": "Python 3"
    },
    "language_info": {
      "name": "python"
    }
  },
  "cells": [
    {
      "cell_type": "code",
      "metadata": {
        "id": "gwwTBqQgrPzE"
      },
      "source": [
        "import torch\n",
        "import torch.nn as nn\n",
        "import torchvision\n",
        "import torchvision.transforms as transforms\n",
        "from torch.utils.data import DataLoader\n",
        "import matplotlib.pyplot as plt\n",
        "import pathlib\n",
        "import numpy as np"
      ],
      "execution_count": null,
      "outputs": []
    },
    {
      "cell_type": "code",
      "metadata": {
        "id": "FXdEfZ7ArVr8"
      },
      "source": [
        "#Device configuration\n",
        "device = torch.device('cuda' if torch.cuda.is_available() else 'cpu')"
      ],
      "execution_count": null,
      "outputs": []
    },
    {
      "cell_type": "code",
      "metadata": {
        "id": "YFhOdr8_rVrL"
      },
      "source": [
        "num_classes = 3\n",
        "learning_rate = 0.001\n"
      ],
      "execution_count": null,
      "outputs": []
    },
    {
      "cell_type": "code",
      "metadata": {
        "colab": {
          "base_uri": "https://localhost:8080/"
        },
        "id": "LDe2An4frVl7",
        "outputId": "aa92fbee-5a16-44a9-d4fe-ee4c583da3cc"
      },
      "source": [
        "from google.colab import drive\n",
        "drive.mount('/content/drive')"
      ],
      "execution_count": null,
      "outputs": [
        {
          "output_type": "stream",
          "text": [
            "Drive already mounted at /content/drive; to attempt to forcibly remount, call drive.mount(\"/content/drive\", force_remount=True).\n"
          ],
          "name": "stdout"
        }
      ]
    },
    {
      "cell_type": "code",
      "metadata": {
        "id": "QLvGnVMWcx8c"
      },
      "source": [
        "def loader(path):\n",
        "    sample = torch.load(path)\n",
        "    return sample\n",
        "    "
      ],
      "execution_count": null,
      "outputs": []
    },
    {
      "cell_type": "code",
      "metadata": {
        "id": "UYUWAUweLCgZ"
      },
      "source": [
        "train_path= '/content/drive/My Drive/minor_project_latent/train/blurs'\n",
        "test_path= '/content/drive/My Drive/minor_project_latent/test/blurs'\n",
        "\n",
        "train_dataset = torchvision.datasets.DatasetFolder(root=train_path, loader=loader,extensions='.txt')\n",
        "\n",
        "train_loader=DataLoader(train_dataset, worker_init_fn=np.random.seed(0))\n",
        "\n",
        "test_dataset = torchvision.datasets.DatasetFolder(root=test_path,loader=loader,extensions='.txt')\n",
        "\n",
        "test_loader=DataLoader(test_dataset, worker_init_fn=np.random.seed(0))\n"
      ],
      "execution_count": null,
      "outputs": []
    },
    {
      "cell_type": "code",
      "metadata": {
        "id": "ffdC0t3irVed",
        "colab": {
          "base_uri": "https://localhost:8080/"
        },
        "outputId": "4f6484c0-5151-42df-fec7-e0876efd32f9"
      },
      "source": [
        "#categories\n",
        "root=pathlib.Path(train_path)\n",
        "classes=sorted([j.name.split('/')[-1] for j in root.iterdir()])\n",
        "print(classes)"
      ],
      "execution_count": null,
      "outputs": [
        {
          "output_type": "stream",
          "text": [
            "['average', 'bad', 'good']\n"
          ],
          "name": "stdout"
        }
      ]
    },
    {
      "cell_type": "code",
      "metadata": {
        "id": "3oSWvexgrVY1"
      },
      "source": [
        "class NeuralNet(nn.Module):\n",
        "    def __init__(self,   num_classes):\n",
        "        super(NeuralNet, self).__init__()\n",
        "\n",
        "        self.conv1 = nn.Conv2d(81, 86, 3, padding=1)\n",
        "        self.pool1 = nn.MaxPool2d(2, 2)\n",
        "\n",
        "        self.conv3 = nn.Conv2d(86, 91, 3, padding=1)\n",
        "        self.pool2 = nn.MaxPool2d(2, 2)\n",
        "\n",
        "        self.conv5 = nn.Conv2d(91, 96, 3, padding=1)\n",
        "        self.pool3 = nn.MaxPool2d(2, 2)\n",
        "\n",
        "        self.fc1 = nn.Linear(4*4*96 , 308 )\n",
        "        self.fc2 = nn.Linear(308 , 60)\n",
        "        self.fc3 = nn.Linear(60 , num_classes)\n",
        "\n",
        "        self.relu = nn.ReLU()\n",
        "    \n",
        "    def forward(self, x):\n",
        "        out = self.conv1(x)     #32*32*86\n",
        "        out = self.relu(out) \n",
        "        out = self.pool1(out)   #16*16*86\n",
        "        out = self.relu(out)\n",
        "\n",
        "        out = self.conv3(out)     #16*16*91\n",
        "        out = self.relu(out)\n",
        "        out = self.pool2(out)     #8*8*91\n",
        "        out = self.relu(out)\n",
        "\n",
        "        out = self.conv5(out)     #8*8*96\n",
        "        out = self.relu(out) \n",
        "        out = self.pool2(out)     #4*4*96\n",
        "        out = self.relu(out) \n",
        "\n",
        "        out = out.view(-1, 4 * 4 * 96) #1536\n",
        "        out = self.fc1(out)\n",
        "        out = self.fc2(out)\n",
        "        out = self.fc3(out)\n",
        "        return out"
      ],
      "execution_count": null,
      "outputs": []
    },
    {
      "cell_type": "code",
      "metadata": {
        "id": "QXx9wI4hrVYE"
      },
      "source": [
        "model = NeuralNet( num_classes).to(device)\n",
        "\n",
        "# Loss and optimizer\n",
        "criterion = nn.CrossEntropyLoss()\n",
        "#criterion = nn.BCELoss()\n",
        "optimizer = torch.optim.Adam(model.parameters(), lr=learning_rate)  \n"
      ],
      "execution_count": null,
      "outputs": []
    },
    {
      "cell_type": "code",
      "metadata": {
        "id": "BsJokEXcrVTI"
      },
      "source": [
        "num_epochs = 1\n",
        "\n",
        "# Train the model\n",
        "\n",
        "n_total_steps = len(train_loader)\n",
        "for epoch in range(num_epochs):\n",
        "    for i, (images, labels) in enumerate(train_loader):  \n",
        "        images = images.to(device)\n",
        "        labels = labels.to(device)\n",
        "        images = images.squeeze(1)\n",
        "\n",
        "        # Forward pass\n",
        "        outputs = model(images)\n",
        "\n",
        "        loss = criterion(outputs, labels)\n",
        "        \n",
        "        # Backward and optimize\n",
        "        optimizer.zero_grad()\n",
        "        loss.backward()\n",
        "        optimizer.step()\n",
        "        \n",
        "        if (i+1) % 120 == 0:\n",
        "          print (f'Epoch [{epoch+1}/{num_epochs}], Step [{i+1}/{n_total_steps}], Loss: {loss.item():.4f}')\n"
      ],
      "execution_count": null,
      "outputs": []
    },
    {
      "cell_type": "code",
      "metadata": {
        "id": "swa3RMbRzsT0",
        "colab": {
          "base_uri": "https://localhost:8080/",
          "height": 36
        },
        "outputId": "93b67d6a-58ff-4c22-94f6-05048abb59fc"
      },
      "source": [
        "'''FILE = \"/content/drive/My Drive/model_save/pytorch_model.h5\"\n",
        "torch.save(model, FILE)\n",
        "loaded_model=torch.load(FILE)\n",
        "loaded_model.eval()\n",
        "print(loaded_model.parameters())\n",
        "'''"
      ],
      "execution_count": null,
      "outputs": [
        {
          "output_type": "execute_result",
          "data": {
            "application/vnd.google.colaboratory.intrinsic+json": {
              "type": "string"
            },
            "text/plain": [
              "'FILE = \"/content/drive/My Drive/model_save/pytorch_model.h5\"\\ntorch.save(model, FILE)\\nloaded_model=torch.load(FILE)\\nloaded_model.eval()\\nprint(loaded_model.parameters())\\n'"
            ]
          },
          "metadata": {
            "tags": []
          },
          "execution_count": 12
        }
      ]
    },
    {
      "cell_type": "code",
      "metadata": {
        "id": "_8FujxAFrVSa",
        "colab": {
          "base_uri": "https://localhost:8080/"
        },
        "outputId": "336080c6-de2a-4583-bf97-b0bea01bb694"
      },
      "source": [
        "# Test the model\n",
        "model.eval()\n",
        "\n",
        "class_correct = list(0. for i in range(3))\n",
        "class_total = list(0. for i in range(3))\n",
        "\n",
        "with torch.no_grad():\n",
        "    n_correct = 0\n",
        "    n_samples = 0\n",
        "    for images, labels in test_loader:\n",
        "        images = images.to(device)\n",
        "        labels = labels.to(device)\n",
        "        images=images.squeeze(1)\n",
        "        #print('GroundTruth: ', ' '.join('%5s' % classes[labels[j]] for j in range(1)))\n",
        "        outputs = model(images)\n",
        "\n",
        "        # max returns (value ,index)\n",
        "        _, predicted = torch.max(outputs.data, 1)\n",
        "        n_samples += labels.size(0)\n",
        "        n_correct += (predicted == labels).sum().item()\n",
        "        #print('Predicted: ', ' '.join('%5s' % classes[predicted[j]] for j in range(1)))\n",
        "\n",
        "        c = (predicted == labels).squeeze()\n",
        "\n",
        "        #label = labels[i]\n",
        "        #print(\"B\",class_correct[label])\n",
        "        #print(\"c\",label.item())\n",
        "        #print(\"d\",c)\n",
        "        class_correct[labels] += c\n",
        "        class_total[labels] += 1\n",
        "\n",
        "    acc = 100.0 * n_correct / n_samples\n",
        "    print(f'Accuracy of the network on test images: {acc} %\\n')\n",
        "\n",
        "    for i in range(3):\n",
        "      print('Accuracy of class %2s : %.4f %%' % (classes[i], 100 * class_correct[i] / class_total[i])) "
      ],
      "execution_count": null,
      "outputs": [
        {
          "output_type": "stream",
          "text": [
            "Accuracy of the network on test images: 33.333333333333336 %\n",
            "\n",
            "Accuracy of class average : 0.0000 %\n",
            "Accuracy of class bad : 0.0000 %\n",
            "Accuracy of class good : 100.0000 %\n"
          ],
          "name": "stdout"
        }
      ]
    }
  ]
}