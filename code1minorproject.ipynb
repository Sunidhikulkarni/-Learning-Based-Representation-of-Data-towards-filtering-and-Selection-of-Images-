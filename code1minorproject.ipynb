{
  "nbformat": 4,
  "nbformat_minor": 0,
  "metadata": {
    "colab": {
      "provenance": [],
      "collapsed_sections": []
    },
    "kernelspec": {
      "name": "python3",
      "display_name": "Python 3"
    },
    "language_info": {
      "name": "python"
    }
  },
  "cells": [
    {
      "cell_type": "code",
      "metadata": {
        "id": "p8GOgPA3wWpb",
        "colab": {
          "base_uri": "https://localhost:8080/"
        },
        "outputId": "13f2cdc8-2ab1-46e7-c8fe-f467797a464f"
      },
      "source": [
        "#mounting drive\n",
        "from google.colab import drive\n",
        "drive.mount('/content/drive')"
      ],
      "execution_count": null,
      "outputs": [
        {
          "output_type": "stream",
          "text": [
            "Mounted at /content/drive\n"
          ],
          "name": "stdout"
        }
      ]
    },
    {
      "cell_type": "code",
      "metadata": {
        "id": "-AyXccTYw3J6"
      },
      "source": [
        "#importing libraries\n",
        "import torch\n",
        "import torch.nn as nn\n",
        "import torchvision\n",
        "import torchvision.transforms as transforms\n",
        "import matplotlib.pyplot as plt\n",
        "import numpy as np\n",
        "import random\n",
        "import torch.nn.functional as F\n",
        "\n",
        "from torch.autograd import Variable\n",
        "from torch.utils.data import DataLoader\n",
        "from torchvision import transforms\n",
        "import torchvision.datasets as dset\n",
        "from torchvision.utils import save_image\n",
        "import torchvision.utils as vutils\n",
        "from torchsummary import summary\n",
        "from IPython import display\n"
      ],
      "execution_count": null,
      "outputs": []
    },
    {
      "cell_type": "code",
      "metadata": {
        "id": "-_5j85-Qw3JO"
      },
      "source": [
        "#parameters\n",
        "num_epochs = 1\n",
        "learning_rate = 0.001"
      ],
      "execution_count": null,
      "outputs": []
    },
    {
      "cell_type": "code",
      "metadata": {
        "id": "gNONxVkmw29H"
      },
      "source": [
        "#device configuration\n",
        "device = torch.device('cuda' if torch.cuda.is_available() else 'cpu')"
      ],
      "execution_count": null,
      "outputs": []
    },
    {
      "cell_type": "code",
      "metadata": {
        "id": "_CayHQiUw28Z"
      },
      "source": [
        "#load data\n",
        "train_dataroot = \"/content/drive/MyDrive/minorproject_dataset_1/train\"\n",
        "dataset = dset.ImageFolder(root=train_dataroot,\n",
        "                           transform=transforms.Compose([transforms.Resize(size=(128,128)),\n",
        "                               transforms.ToTensor(),\n",
        "                               transforms.Normalize((0.5, 0.5, 0.5), (0.5, 0.5, 0.5)),\n",
        "                           ]))\n",
        "\n",
        "dataloader = torch.utils.data.DataLoader(dataset, batch_size=1,\n",
        "                                         shuffle=True)\n",
        "\n",
        "train_dataroot1 = \"/content/drive/MyDrive/minorproject_dataset_2/fore_ground_blur/train\"\n",
        "\n",
        "train_dataset1 = dset.ImageFolder(root=train_dataroot1,\n",
        "                           transform=transforms.Compose([transforms.Resize(size=(128,128)),\n",
        "                               transforms.ToTensor(),\n",
        "                               transforms.Normalize((0.5, 0.5, 0.5), (0.5, 0.5, 0.5)),\n",
        "                           ]))\n",
        "\n",
        "train_dataloader1 = torch.utils.data.DataLoader(train_dataset1, batch_size=1,\n",
        "                                         shuffle=True)\n",
        "\n",
        "\n",
        "test_dataroot1 = \"/content/drive/MyDrive/minorproject_dataset_2/fore_ground_blur/test\"\n",
        "\n",
        "test_dataset1 = dset.ImageFolder(root=test_dataroot1,\n",
        "                           transform=transforms.Compose([transforms.Resize(size=(128,128)),\n",
        "                               transforms.ToTensor(),\n",
        "                               transforms.Normalize((0.5, 0.5, 0.5), (0.5, 0.5, 0.5)),\n",
        "                           ]))\n",
        "\n",
        "test_dataloader1 = torch.utils.data.DataLoader(test_dataset1, batch_size=1,\n",
        "                                         shuffle=False)\n",
        "\n",
        "\n",
        "train_dataroot2 = \"/content/drive/MyDrive/minorproject_dataset_2/back_ground_blur/train\"\n",
        "\n",
        "train_dataset2 = dset.ImageFolder(root=train_dataroot2,\n",
        "                           transform=transforms.Compose([transforms.Resize(size=(128,128)),\n",
        "                               transforms.ToTensor(),\n",
        "                               transforms.Normalize((0.5, 0.5, 0.5), (0.5, 0.5, 0.5)),\n",
        "                           ]))\n",
        "\n",
        "train_dataloader2 = torch.utils.data.DataLoader(train_dataset2, batch_size=1,\n",
        "                                         shuffle=True)\n",
        "\n",
        "\n",
        "test_dataroot2 = \"/content/drive/MyDrive/minorproject_dataset_2/back_ground_blur/test\"\n",
        "\n",
        "test_dataset2 = dset.ImageFolder(root=test_dataroot2,\n",
        "                           transform=transforms.Compose([transforms.Resize(size=(128,128)),\n",
        "                               transforms.ToTensor(),\n",
        "                               transforms.Normalize((0.5, 0.5, 0.5), (0.5, 0.5, 0.5)),\n",
        "                           ]))\n",
        "\n",
        "test_dataloader2 = torch.utils.data.DataLoader(test_dataset2, batch_size=1,\n",
        "                                         shuffle=False)\n",
        "\n",
        "\n",
        "train_dataroot3 = \"/content/drive/MyDrive/minorproject_dataset_2/sharp/train\"\n",
        "\n",
        "train_dataset3 = dset.ImageFolder(root=train_dataroot2,\n",
        "                           transform=transforms.Compose([transforms.Resize(size=(128,128)),\n",
        "                               transforms.ToTensor(),\n",
        "                               transforms.Normalize((0.5, 0.5, 0.5), (0.5, 0.5, 0.5)),\n",
        "                           ]))\n",
        "\n",
        "train_dataloader3 = torch.utils.data.DataLoader(train_dataset2, batch_size=1,\n",
        "                                         shuffle=True)\n",
        "\n",
        "\n",
        "test_dataroot3 = \"/content/drive/MyDrive/minorproject_dataset_2/sharp/test\"\n",
        "test_dataset3 = dset.ImageFolder(root=test_dataroot2,\n",
        "                           transform=transforms.Compose([transforms.Resize(size=(128,128)),\n",
        "                               transforms.ToTensor(),\n",
        "                               transforms.Normalize((0.5, 0.5, 0.5), (0.5, 0.5, 0.5)),\n",
        "                           ]))\n",
        "\n",
        "test_dataloader3 = torch.utils.data.DataLoader(test_dataset2, batch_size=1,\n",
        "                                         shuffle=False)"
      ],
      "execution_count": null,
      "outputs": []
    },
    {
      "cell_type": "code",
      "metadata": {
        "id": "lgtg5-i4w23p"
      },
      "source": [
        "#Network Architecture\n",
        "class Autoencoder(nn.Module):\n",
        "    def __init__(self):\n",
        "        super(Autoencoder, self).__init__()\n",
        "        self.conv1 = nn.Conv2d(3, 9, kernel_size=(3,3),padding=1)\n",
        "        self.conv2 = nn.Conv2d(9, 27, kernel_size=(3,3),padding=1)\n",
        "        self.maxpool1 = nn.MaxPool2d(kernel_size=(2,2), return_indices=True)\n",
        "        self.conv3 = nn.Conv2d(27, 81, kernel_size=(3,3),padding=1)\n",
        "        self.maxpool2 = nn.MaxPool2d(kernel_size=(2,2), return_indices=True)\n",
        "        self.maxunpool1 = nn.MaxUnpool2d(kernel_size=(2,2))\n",
        "        self.unconv1 = nn.ConvTranspose2d(81,27,kernel_size=(3,3), padding=1)\n",
        "        self.maxunpool2 = nn.MaxUnpool2d(kernel_size=(2,2))\n",
        "        self.unconv2 = nn.ConvTranspose2d(27,9,kernel_size=(3,3), padding=1)\n",
        "        self.unconv3 = nn.ConvTranspose2d(9,3,kernel_size=(3,3),padding=1)\n",
        "        \n",
        "\n",
        "    def Encoder(self, x):\n",
        "        x = self.conv1(x)\n",
        "        x= nn.Tanh()(x)\n",
        "        x= self.conv2(x)\n",
        "        x= nn.Tanh()(x)\n",
        "        x,indices1 = self.maxpool1(x)\n",
        "        x= nn.Tanh()(x)\n",
        "        x= self.conv3(x)\n",
        "        x= nn.Tanh()(x)\n",
        "        x,indices2 = self.maxpool2(x)\n",
        "        x= nn.Tanh()(x)\n",
        "        return x,indices1,indices2\n",
        "\n",
        "    def Decoder(self, x,indices1,indices2):\n",
        "        x = self.maxunpool2(x, indices2)\n",
        "        x= nn.Tanh()(x)\n",
        "        x = self.unconv1(x)\n",
        "        x= nn.Tanh()(x)  \n",
        "        x = self.maxunpool1(x,indices1)\n",
        "        x= nn.Tanh()(x)\n",
        "        x = self.unconv2(x)\n",
        "        x= nn.Tanh()(x)\n",
        "        x = self.unconv3(x)\n",
        "        return x\n",
        "   ############################################ \n",
        "  \n",
        "    def forward(self, x):\n",
        "        latent,i1,i2 = self.Encoder(x)\n",
        "        output = self.Decoder(latent,i1,i2)\n",
        "        return output\n",
        "        \n",
        "\n",
        "    ##########################################################################################################################################\n",
        "    \n"
      ],
      "execution_count": null,
      "outputs": []
    },
    {
      "cell_type": "code",
      "metadata": {
        "colab": {
          "base_uri": "https://localhost:8080/"
        },
        "id": "jIX5JOnmw22u",
        "outputId": "1b5e66ac-dca5-4483-af65-1741d4bd9707"
      },
      "source": [
        "#printing the number of parameters\n",
        "model = Autoencoder().to(device)\n",
        "\n",
        "num_params = sum(p.numel() for p in model.parameters() if p.requires_grad)\n",
        "print('Number of parameters: %d' % num_params)"
      ],
      "execution_count": null,
      "outputs": [
        {
          "output_type": "stream",
          "text": [
            "Number of parameters: 44382\n"
          ],
          "name": "stdout"
        }
      ]
    },
    {
      "cell_type": "code",
      "metadata": {
        "colab": {
          "base_uri": "https://localhost:8080/"
        },
        "id": "dkY1fTRzw2yA",
        "outputId": "ee84cd1c-52ef-4db5-dbcd-dbe79672d1b5"
      },
      "source": [
        "#training\n",
        "optimizer = torch.optim.Adam(params=model.parameters(), lr=learning_rate, weight_decay=1e-5) \n",
        "train_loss_avg = []\n",
        "\n",
        "print('Training ...')\n",
        "for epoch in range(num_epochs):\n",
        "    train_loss_avg.append(0)\n",
        "    num_batches = 0\n",
        "    \n",
        "    for image_batch , _ in dataloader:\n",
        "      \n",
        "        image_batch = image_batch.to(device)\n",
        "        \n",
        "        # autoencoder reconstruction\n",
        "        image_batch_recon = model.forward(image_batch)\n",
        "        #L,I1,I2= model.Encoder(image_batch)\n",
        "        #image_batch_recon=model.Decoder(L,I1,I2)\n",
        "        # reconstruction error\n",
        "        loss = F.mse_loss(image_batch_recon, image_batch)\n",
        "        \n",
        "        # backpropagation\n",
        "        optimizer.zero_grad()\n",
        "        loss.backward()\n",
        "        \n",
        "        # one step of the optmizer (using the gradients from backpropagation)\n",
        "        optimizer.step()\n",
        "        \n",
        "        train_loss_avg[-1] += loss.item()\n",
        "        num_batches += 1\n",
        "        \n",
        "\n",
        "    train_loss_avg[-1] /= num_batches\n",
        "    print('Epoch [%d / %d] average reconstruction error: %f' % (epoch+1, num_epochs, train_loss_avg[-1]))"
      ],
      "execution_count": null,
      "outputs": [
        {
          "output_type": "stream",
          "text": [
            "Training ...\n"
          ],
          "name": "stdout"
        },
        {
          "output_type": "stream",
          "text": [
            "/usr/local/lib/python3.7/dist-packages/torch/nn/functional.py:693: UserWarning: Named tensors and all their associated APIs are an experimental feature and subject to change. Please do not use them for anything important until they are released as stable. (Triggered internally at  /pytorch/c10/core/TensorImpl.h:1156.)\n",
            "  return torch._C._nn.max_pool2d_with_indices(input, kernel_size, stride, padding, dilation, ceil_mode)\n"
          ],
          "name": "stderr"
        },
        {
          "output_type": "stream",
          "text": [
            "Epoch [1 / 1] average reconstruction error: 0.008178\n"
          ],
          "name": "stdout"
        }
      ]
    },
    {
      "cell_type": "code",
      "metadata": {
        "colab": {
          "base_uri": "https://localhost:8080/",
          "height": 279
        },
        "id": "J8Ij7LCew2xI",
        "outputId": "01e70362-ff99-46c2-a305-a884d1f5aa1f"
      },
      "source": [
        "#plotting graph\n",
        "import matplotlib.pyplot as plt\n",
        "plt.ion()\n",
        "fig = plt.figure()\n",
        "plt.plot(train_loss_avg)\n",
        "plt.xlabel('Epochs')\n",
        "plt.ylabel('Reconstruction error')\n",
        "plt.show()"
      ],
      "execution_count": null,
      "outputs": [
        {
          "output_type": "display_data",
          "data": {
            "image/png": "[encoded data removed]",
            "text/plain": [
              "<Figure size 432x288 with 1 Axes>"
            ]
          },
          "metadata": {
            "tags": [],
            "needs_background": "light"
          }
        }
      ]
    },
    {
      "cell_type": "code",
      "metadata": {
        "id": "E2oXnqVkgQbY"
      },
      "source": [
        "FILE = \"/content/drive/My Drive/minorproject_model_save/trained_model.pt\"\n",
        "torch.save(model, FILE)\n"
      ],
      "execution_count": null,
      "outputs": []
    },
    {
      "cell_type": "code",
      "metadata": {
        "id": "3Q5o4vA7XdwR",
        "colab": {
          "base_uri": "https://localhost:8080/",
          "height": 388
        },
        "outputId": "26d78161-fbed-4beb-ba3e-e6def13d6e13"
      },
      "source": [
        "model.eval()\n",
        "def Load(dataloader,latentpath,I1_path,I2_path):\n",
        "    count=0\n",
        "    for image_batch, _ in dataloader:  \n",
        "        with torch.no_grad():\n",
        "            image_batch = image_batch.to(device)\n",
        "            # autoencoder reconstruction\n",
        "            L,I1,I2 = model.Encoder(image_batch)\n",
        "            \n",
        "            b=len(image_batch)\n",
        "            for i in range(b):\n",
        "                count+=1\n",
        "                L_image=L[i] \n",
        "                I1_image=I1[i] \n",
        "                I2_image=I2[i] \n",
        "\n",
        "                torch.save(L_image.unsqueeze(0), latentpath.format(count)) \n",
        "                #torch.save(I1_image.unsqueeze(0), I1_path.format(count)) \n",
        "                #torch.save(I2_image.unsqueeze(0), I2_path.format(count)) \n",
        "    \n",
        "latent_path_good_test=\"/content/drive/MyDrive/minor_project_latent/test/blurs/fore_ground_blur/Latent_{}.txt\"\n",
        "#latent_path_good_test=\"/content/drive/MyDrive/drill_save/test/drilling/good/Latent_{}.txt\"\n",
        "I1_path_good_test=\"/content/drive/MyDrive/minor_project_save/test/blurs/fore_ground_blur/I1_{}.txt\"\n",
        "I2_path_good_test=\"/content/drive/MyDrive/minor_project_save/test/blurs/fore_ground_blur/I2_{}.txt\"\n",
        "Load(test_dataloader1,latent_path_good_test,I1_path_good_test,I2_path_good_test)\n",
        "\n",
        "latent_path_average_test=\"/content/drive/MyDrive/minor_project_latent/test/blurs/back_ground_blur/Latent_{}.txt\"\n",
        "#latent_path_average_test=\"/content/drive/MyDrive/drill_save/test/drilling/average/Latent_{}.txt\"\n",
        "I1_path_average_test=\"/content/drive/MyDrive/minor_project_save/test/blurs/back_ground_blur/I1_{}.txt\"\n",
        "I2_path_average_test=\"/content/drive/MyDrive/minor_project_save/test/blurs/back_ground_blur/I2_{}.txt\"\n",
        "Load(test_dataloader2,latent_path_average_test,I1_path_average_test,I2_path_average_test)\n",
        "\n",
        "latent_path_bad_test=\"/content/drive/MyDrive/minor_project_latent/test/blurs/sharp/Latent_{}.txt\"\n",
        "#latent_path_bad_test=\"/content/drive/MyDrive/drill_save/test/drilling/bad/Latent_{}.txt\"\n",
        "I1_path_bad_test=\"/content/drive/MyDrive/minor_project_save/test/blurs/sharp/I1_{}.txt\"\n",
        "I2_path_bad_test=\"/content/drive/MyDrive/minor_project_save/test/blurs/sharp/I2_{}.txt\"\n",
        "Load(test_dataloader3,latent_path_bad_test,I1_path_bad_test,I2_path_bad_test)\n",
        "\n",
        "latent_path_good_train=\"/content/drive/MyDrive/minor_project_latent/train/blurs/fore_ground_blur/Latent_{}.txt\"\n",
        "#latent_path_good_train=\"/content/drive/MyDrive/drill_save/train/drilling/good/Latent_{}.txt\"\n",
        "I1_path_good_train=\"/content/drive/MyDrive/minor_project_save/train/blurs/fore_ground_blur/I1_{}.txt\"\n",
        "I2_path_good_train=\"/content/drive/MyDrive/minor_project_save/train/blurs/fore_ground_blur/I2_{}.txt\"\n",
        "Load(train_dataloader1,latent_path_good_train,I1_path_good_train,I2_path_good_train)\n",
        "\n",
        "latent_path_average_train=\"/content/drive/MyDrive/minor_project_latent/train/blurs/back_ground_blur/Latent_{}.txt\"\n",
        "#latent_path_average_train=\"/content/drive/MyDrive/drill_save/train/drilling/average/Latent_{}.txt\"\n",
        "I1_path_average_train=\"/content/drive/MyDrive/minor_project_save/train/blurs/back_ground_blur/I1_{}.txt\"\n",
        "I2_path_average_train=\"/content/drive/MyDrive/minor_project_save/train/blurs/back_ground_blur/I2_{}.txt\"\n",
        "Load(train_dataloader2,latent_path_average_train,I1_path_average_train,I2_path_average_train)\n",
        "\n",
        "latent_path_bad_train=\"/content/drive/MyDrive/minor_project_latent/train/blurs/sharp/Latent_{}.txt\"\n",
        "#latent_path_bad_train=\"/content/drive/MyDrive/drill_save/train/drilling/bad/Latent_{}.txt\"\n",
        "I1_path_bad_train=\"/content/drive/MyDrive/minor_project_save/train/blurs/sharp/I1_{}.txt\"\n",
        "I2_path_bad_train=\"/content/drive/MyDrive/minor_project_save/train/blurs/sharp/I2_{}.txt\"\n",
        "Load(train_dataloader3,latent_path_bad_train,I1_path_bad_train,I2_path_bad_train)"
      ],
      "execution_count": null,
      "outputs": [
        {
          "output_type": "error",
          "ename": "KeyboardInterrupt",
          "evalue": "ignored",
          "traceback": [
            "\u001b[0;31m---------------------------------------------------------------------------\u001b[0m",
            "\u001b[0;31mKeyboardInterrupt\u001b[0m                         Traceback (most recent call last)",
            "\u001b[0;32m<ipython-input-12-13d7fc766a85>\u001b[0m in \u001b[0;36m<module>\u001b[0;34m()\u001b[0m\n\u001b[1;32m     47\u001b[0m \u001b[0mI1_path_average_train\u001b[0m\u001b[0;34m=\u001b[0m\u001b[0;34m\"/content/drive/MyDrive/minor_project_save/train/blurs/back_ground_blur/I1_{}.txt\"\u001b[0m\u001b[0;34m\u001b[0m\u001b[0;34m\u001b[0m\u001b[0m\n\u001b[1;32m     48\u001b[0m \u001b[0mI2_path_average_train\u001b[0m\u001b[0;34m=\u001b[0m\u001b[0;34m\"/content/drive/MyDrive/minor_project_save/train/blurs/back_ground_blur/I2_{}.txt\"\u001b[0m\u001b[0;34m\u001b[0m\u001b[0;34m\u001b[0m\u001b[0m\n\u001b[0;32m---> 49\u001b[0;31m \u001b[0mLoad\u001b[0m\u001b[0;34m(\u001b[0m\u001b[0mtrain_dataloader2\u001b[0m\u001b[0;34m,\u001b[0m\u001b[0mlatent_path_average_train\u001b[0m\u001b[0;34m,\u001b[0m\u001b[0mI1_path_average_train\u001b[0m\u001b[0;34m,\u001b[0m\u001b[0mI2_path_average_train\u001b[0m\u001b[0;34m)\u001b[0m\u001b[0;34m\u001b[0m\u001b[0;34m\u001b[0m\u001b[0m\n\u001b[0m\u001b[1;32m     50\u001b[0m \u001b[0;34m\u001b[0m\u001b[0m\n\u001b[1;32m     51\u001b[0m \u001b[0mlatent_path_bad_train\u001b[0m\u001b[0;34m=\u001b[0m\u001b[0;34m\"/content/drive/MyDrive/minor_project_latent/train/blurs/sharp/Latent_{}.txt\"\u001b[0m\u001b[0;34m\u001b[0m\u001b[0;34m\u001b[0m\u001b[0m\n",
            "\u001b[0;32m<ipython-input-12-13d7fc766a85>\u001b[0m in \u001b[0;36mLoad\u001b[0;34m(dataloader, latentpath, I1_path, I2_path)\u001b[0m\n\u001b[1;32m      2\u001b[0m \u001b[0;32mdef\u001b[0m \u001b[0mLoad\u001b[0m\u001b[0;34m(\u001b[0m\u001b[0mdataloader\u001b[0m\u001b[0;34m,\u001b[0m\u001b[0mlatentpath\u001b[0m\u001b[0;34m,\u001b[0m\u001b[0mI1_path\u001b[0m\u001b[0;34m,\u001b[0m\u001b[0mI2_path\u001b[0m\u001b[0;34m)\u001b[0m\u001b[0;34m:\u001b[0m\u001b[0;34m\u001b[0m\u001b[0;34m\u001b[0m\u001b[0m\n\u001b[1;32m      3\u001b[0m     \u001b[0mcount\u001b[0m\u001b[0;34m=\u001b[0m\u001b[0;36m0\u001b[0m\u001b[0;34m\u001b[0m\u001b[0;34m\u001b[0m\u001b[0m\n\u001b[0;32m----> 4\u001b[0;31m     \u001b[0;32mfor\u001b[0m \u001b[0mimage_batch\u001b[0m\u001b[0;34m,\u001b[0m \u001b[0m_\u001b[0m \u001b[0;32min\u001b[0m \u001b[0mdataloader\u001b[0m\u001b[0;34m:\u001b[0m\u001b[0;34m\u001b[0m\u001b[0;34m\u001b[0m\u001b[0m\n\u001b[0m\u001b[1;32m      5\u001b[0m         \u001b[0;32mwith\u001b[0m \u001b[0mtorch\u001b[0m\u001b[0;34m.\u001b[0m\u001b[0mno_grad\u001b[0m\u001b[0;34m(\u001b[0m\u001b[0;34m)\u001b[0m\u001b[0;34m:\u001b[0m\u001b[0;34m\u001b[0m\u001b[0;34m\u001b[0m\u001b[0m\n\u001b[1;32m      6\u001b[0m             \u001b[0mimage_batch\u001b[0m \u001b[0;34m=\u001b[0m \u001b[0mimage_batch\u001b[0m\u001b[0;34m.\u001b[0m\u001b[0mto\u001b[0m\u001b[0;34m(\u001b[0m\u001b[0mdevice\u001b[0m\u001b[0;34m)\u001b[0m\u001b[0;34m\u001b[0m\u001b[0;34m\u001b[0m\u001b[0m\n",
            "\u001b[0;32m/usr/local/lib/python3.7/dist-packages/torch/utils/data/dataloader.py\u001b[0m in \u001b[0;36m__next__\u001b[0;34m(self)\u001b[0m\n\u001b[1;32m    519\u001b[0m             \u001b[0;32mif\u001b[0m \u001b[0mself\u001b[0m\u001b[0;34m.\u001b[0m\u001b[0m_sampler_iter\u001b[0m \u001b[0;32mis\u001b[0m \u001b[0;32mNone\u001b[0m\u001b[0;34m:\u001b[0m\u001b[0;34m\u001b[0m\u001b[0;34m\u001b[0m\u001b[0m\n\u001b[1;32m    520\u001b[0m                 \u001b[0mself\u001b[0m\u001b[0;34m.\u001b[0m\u001b[0m_reset\u001b[0m\u001b[0;34m(\u001b[0m\u001b[0;34m)\u001b[0m\u001b[0;34m\u001b[0m\u001b[0;34m\u001b[0m\u001b[0m\n\u001b[0;32m--> 521\u001b[0;31m             \u001b[0mdata\u001b[0m \u001b[0;34m=\u001b[0m \u001b[0mself\u001b[0m\u001b[0;34m.\u001b[0m\u001b[0m_next_data\u001b[0m\u001b[0;34m(\u001b[0m\u001b[0;34m)\u001b[0m\u001b[0;34m\u001b[0m\u001b[0;34m\u001b[0m\u001b[0m\n\u001b[0m\u001b[1;32m    522\u001b[0m             \u001b[0mself\u001b[0m\u001b[0;34m.\u001b[0m\u001b[0m_num_yielded\u001b[0m \u001b[0;34m+=\u001b[0m \u001b[0;36m1\u001b[0m\u001b[0;34m\u001b[0m\u001b[0;34m\u001b[0m\u001b[0m\n\u001b[1;32m    523\u001b[0m             \u001b[0;32mif\u001b[0m \u001b[0mself\u001b[0m\u001b[0;34m.\u001b[0m\u001b[0m_dataset_kind\u001b[0m \u001b[0;34m==\u001b[0m \u001b[0m_DatasetKind\u001b[0m\u001b[0;34m.\u001b[0m\u001b[0mIterable\u001b[0m \u001b[0;32mand\u001b[0m\u001b[0;31m \u001b[0m\u001b[0;31m\\\u001b[0m\u001b[0;34m\u001b[0m\u001b[0;34m\u001b[0m\u001b[0m\n",
            "\u001b[0;32m/usr/local/lib/python3.7/dist-packages/torch/utils/data/dataloader.py\u001b[0m in \u001b[0;36m_next_data\u001b[0;34m(self)\u001b[0m\n\u001b[1;32m    559\u001b[0m     \u001b[0;32mdef\u001b[0m \u001b[0m_next_data\u001b[0m\u001b[0;34m(\u001b[0m\u001b[0mself\u001b[0m\u001b[0;34m)\u001b[0m\u001b[0;34m:\u001b[0m\u001b[0;34m\u001b[0m\u001b[0;34m\u001b[0m\u001b[0m\n\u001b[1;32m    560\u001b[0m         \u001b[0mindex\u001b[0m \u001b[0;34m=\u001b[0m \u001b[0mself\u001b[0m\u001b[0;34m.\u001b[0m\u001b[0m_next_index\u001b[0m\u001b[0;34m(\u001b[0m\u001b[0;34m)\u001b[0m  \u001b[0;31m# may raise StopIteration\u001b[0m\u001b[0;34m\u001b[0m\u001b[0;34m\u001b[0m\u001b[0m\n\u001b[0;32m--> 561\u001b[0;31m         \u001b[0mdata\u001b[0m \u001b[0;34m=\u001b[0m \u001b[0mself\u001b[0m\u001b[0;34m.\u001b[0m\u001b[0m_dataset_fetcher\u001b[0m\u001b[0;34m.\u001b[0m\u001b[0mfetch\u001b[0m\u001b[0;34m(\u001b[0m\u001b[0mindex\u001b[0m\u001b[0;34m)\u001b[0m  \u001b[0;31m# may raise StopIteration\u001b[0m\u001b[0;34m\u001b[0m\u001b[0;34m\u001b[0m\u001b[0m\n\u001b[0m\u001b[1;32m    562\u001b[0m         \u001b[0;32mif\u001b[0m \u001b[0mself\u001b[0m\u001b[0;34m.\u001b[0m\u001b[0m_pin_memory\u001b[0m\u001b[0;34m:\u001b[0m\u001b[0;34m\u001b[0m\u001b[0;34m\u001b[0m\u001b[0m\n\u001b[1;32m    563\u001b[0m             \u001b[0mdata\u001b[0m \u001b[0;34m=\u001b[0m \u001b[0m_utils\u001b[0m\u001b[0;34m.\u001b[0m\u001b[0mpin_memory\u001b[0m\u001b[0;34m.\u001b[0m\u001b[0mpin_memory\u001b[0m\u001b[0;34m(\u001b[0m\u001b[0mdata\u001b[0m\u001b[0;34m)\u001b[0m\u001b[0;34m\u001b[0m\u001b[0;34m\u001b[0m\u001b[0m\n",
            "\u001b[0;32m/usr/local/lib/python3.7/dist-packages/torch/utils/data/_utils/fetch.py\u001b[0m in \u001b[0;36mfetch\u001b[0;34m(self, possibly_batched_index)\u001b[0m\n\u001b[1;32m     42\u001b[0m     \u001b[0;32mdef\u001b[0m \u001b[0mfetch\u001b[0m\u001b[0;34m(\u001b[0m\u001b[0mself\u001b[0m\u001b[0;34m,\u001b[0m \u001b[0mpossibly_batched_index\u001b[0m\u001b[0;34m)\u001b[0m\u001b[0;34m:\u001b[0m\u001b[0;34m\u001b[0m\u001b[0;34m\u001b[0m\u001b[0m\n\u001b[1;32m     43\u001b[0m         \u001b[0;32mif\u001b[0m \u001b[0mself\u001b[0m\u001b[0;34m.\u001b[0m\u001b[0mauto_collation\u001b[0m\u001b[0;34m:\u001b[0m\u001b[0;34m\u001b[0m\u001b[0;34m\u001b[0m\u001b[0m\n\u001b[0;32m---> 44\u001b[0;31m             \u001b[0mdata\u001b[0m \u001b[0;34m=\u001b[0m \u001b[0;34m[\u001b[0m\u001b[0mself\u001b[0m\u001b[0;34m.\u001b[0m\u001b[0mdataset\u001b[0m\u001b[0;34m[\u001b[0m\u001b[0midx\u001b[0m\u001b[0;34m]\u001b[0m \u001b[0;32mfor\u001b[0m \u001b[0midx\u001b[0m \u001b[0;32min\u001b[0m \u001b[0mpossibly_batched_index\u001b[0m\u001b[0;34m]\u001b[0m\u001b[0;34m\u001b[0m\u001b[0;34m\u001b[0m\u001b[0m\n\u001b[0m\u001b[1;32m     45\u001b[0m         \u001b[0;32melse\u001b[0m\u001b[0;34m:\u001b[0m\u001b[0;34m\u001b[0m\u001b[0;34m\u001b[0m\u001b[0m\n\u001b[1;32m     46\u001b[0m             \u001b[0mdata\u001b[0m \u001b[0;34m=\u001b[0m \u001b[0mself\u001b[0m\u001b[0;34m.\u001b[0m\u001b[0mdataset\u001b[0m\u001b[0;34m[\u001b[0m\u001b[0mpossibly_batched_index\u001b[0m\u001b[0;34m]\u001b[0m\u001b[0;34m\u001b[0m\u001b[0;34m\u001b[0m\u001b[0m\n",
            "\u001b[0;32m/usr/local/lib/python3.7/dist-packages/torch/utils/data/_utils/fetch.py\u001b[0m in \u001b[0;36m<listcomp>\u001b[0;34m(.0)\u001b[0m\n\u001b[1;32m     42\u001b[0m     \u001b[0;32mdef\u001b[0m \u001b[0mfetch\u001b[0m\u001b[0;34m(\u001b[0m\u001b[0mself\u001b[0m\u001b[0;34m,\u001b[0m \u001b[0mpossibly_batched_index\u001b[0m\u001b[0;34m)\u001b[0m\u001b[0;34m:\u001b[0m\u001b[0;34m\u001b[0m\u001b[0;34m\u001b[0m\u001b[0m\n\u001b[1;32m     43\u001b[0m         \u001b[0;32mif\u001b[0m \u001b[0mself\u001b[0m\u001b[0;34m.\u001b[0m\u001b[0mauto_collation\u001b[0m\u001b[0;34m:\u001b[0m\u001b[0;34m\u001b[0m\u001b[0;34m\u001b[0m\u001b[0m\n\u001b[0;32m---> 44\u001b[0;31m             \u001b[0mdata\u001b[0m \u001b[0;34m=\u001b[0m \u001b[0;34m[\u001b[0m\u001b[0mself\u001b[0m\u001b[0;34m.\u001b[0m\u001b[0mdataset\u001b[0m\u001b[0;34m[\u001b[0m\u001b[0midx\u001b[0m\u001b[0;34m]\u001b[0m \u001b[0;32mfor\u001b[0m \u001b[0midx\u001b[0m \u001b[0;32min\u001b[0m \u001b[0mpossibly_batched_index\u001b[0m\u001b[0;34m]\u001b[0m\u001b[0;34m\u001b[0m\u001b[0;34m\u001b[0m\u001b[0m\n\u001b[0m\u001b[1;32m     45\u001b[0m         \u001b[0;32melse\u001b[0m\u001b[0;34m:\u001b[0m\u001b[0;34m\u001b[0m\u001b[0;34m\u001b[0m\u001b[0m\n\u001b[1;32m     46\u001b[0m             \u001b[0mdata\u001b[0m \u001b[0;34m=\u001b[0m \u001b[0mself\u001b[0m\u001b[0;34m.\u001b[0m\u001b[0mdataset\u001b[0m\u001b[0;34m[\u001b[0m\u001b[0mpossibly_batched_index\u001b[0m\u001b[0;34m]\u001b[0m\u001b[0;34m\u001b[0m\u001b[0;34m\u001b[0m\u001b[0m\n",
            "\u001b[0;32m/usr/local/lib/python3.7/dist-packages/torchvision/datasets/folder.py\u001b[0m in \u001b[0;36m__getitem__\u001b[0;34m(self, index)\u001b[0m\n\u001b[1;32m    230\u001b[0m         \"\"\"\n\u001b[1;32m    231\u001b[0m         \u001b[0mpath\u001b[0m\u001b[0;34m,\u001b[0m \u001b[0mtarget\u001b[0m \u001b[0;34m=\u001b[0m \u001b[0mself\u001b[0m\u001b[0;34m.\u001b[0m\u001b[0msamples\u001b[0m\u001b[0;34m[\u001b[0m\u001b[0mindex\u001b[0m\u001b[0;34m]\u001b[0m\u001b[0;34m\u001b[0m\u001b[0;34m\u001b[0m\u001b[0m\n\u001b[0;32m--> 232\u001b[0;31m         \u001b[0msample\u001b[0m \u001b[0;34m=\u001b[0m \u001b[0mself\u001b[0m\u001b[0;34m.\u001b[0m\u001b[0mloader\u001b[0m\u001b[0;34m(\u001b[0m\u001b[0mpath\u001b[0m\u001b[0;34m)\u001b[0m\u001b[0;34m\u001b[0m\u001b[0;34m\u001b[0m\u001b[0m\n\u001b[0m\u001b[1;32m    233\u001b[0m         \u001b[0;32mif\u001b[0m \u001b[0mself\u001b[0m\u001b[0;34m.\u001b[0m\u001b[0mtransform\u001b[0m \u001b[0;32mis\u001b[0m \u001b[0;32mnot\u001b[0m \u001b[0;32mNone\u001b[0m\u001b[0;34m:\u001b[0m\u001b[0;34m\u001b[0m\u001b[0;34m\u001b[0m\u001b[0m\n\u001b[1;32m    234\u001b[0m             \u001b[0msample\u001b[0m \u001b[0;34m=\u001b[0m \u001b[0mself\u001b[0m\u001b[0;34m.\u001b[0m\u001b[0mtransform\u001b[0m\u001b[0;34m(\u001b[0m\u001b[0msample\u001b[0m\u001b[0;34m)\u001b[0m\u001b[0;34m\u001b[0m\u001b[0;34m\u001b[0m\u001b[0m\n",
            "\u001b[0;32m/usr/local/lib/python3.7/dist-packages/torchvision/datasets/folder.py\u001b[0m in \u001b[0;36mdefault_loader\u001b[0;34m(path)\u001b[0m\n\u001b[1;32m    267\u001b[0m         \u001b[0;32mreturn\u001b[0m \u001b[0maccimage_loader\u001b[0m\u001b[0;34m(\u001b[0m\u001b[0mpath\u001b[0m\u001b[0;34m)\u001b[0m\u001b[0;34m\u001b[0m\u001b[0;34m\u001b[0m\u001b[0m\n\u001b[1;32m    268\u001b[0m     \u001b[0;32melse\u001b[0m\u001b[0;34m:\u001b[0m\u001b[0;34m\u001b[0m\u001b[0;34m\u001b[0m\u001b[0m\n\u001b[0;32m--> 269\u001b[0;31m         \u001b[0;32mreturn\u001b[0m \u001b[0mpil_loader\u001b[0m\u001b[0;34m(\u001b[0m\u001b[0mpath\u001b[0m\u001b[0;34m)\u001b[0m\u001b[0;34m\u001b[0m\u001b[0;34m\u001b[0m\u001b[0m\n\u001b[0m\u001b[1;32m    270\u001b[0m \u001b[0;34m\u001b[0m\u001b[0m\n\u001b[1;32m    271\u001b[0m \u001b[0;34m\u001b[0m\u001b[0m\n",
            "\u001b[0;32m/usr/local/lib/python3.7/dist-packages/torchvision/datasets/folder.py\u001b[0m in \u001b[0;36mpil_loader\u001b[0;34m(path)\u001b[0m\n\u001b[1;32m    248\u001b[0m     \u001b[0;31m# open path as file to avoid ResourceWarning (https://github.com/python-pillow/Pillow/issues/835)\u001b[0m\u001b[0;34m\u001b[0m\u001b[0;34m\u001b[0m\u001b[0;34m\u001b[0m\u001b[0m\n\u001b[1;32m    249\u001b[0m     \u001b[0;32mwith\u001b[0m \u001b[0mopen\u001b[0m\u001b[0;34m(\u001b[0m\u001b[0mpath\u001b[0m\u001b[0;34m,\u001b[0m \u001b[0;34m'rb'\u001b[0m\u001b[0;34m)\u001b[0m \u001b[0;32mas\u001b[0m \u001b[0mf\u001b[0m\u001b[0;34m:\u001b[0m\u001b[0;34m\u001b[0m\u001b[0;34m\u001b[0m\u001b[0m\n\u001b[0;32m--> 250\u001b[0;31m         \u001b[0mimg\u001b[0m \u001b[0;34m=\u001b[0m \u001b[0mImage\u001b[0m\u001b[0;34m.\u001b[0m\u001b[0mopen\u001b[0m\u001b[0;34m(\u001b[0m\u001b[0mf\u001b[0m\u001b[0;34m)\u001b[0m\u001b[0;34m\u001b[0m\u001b[0;34m\u001b[0m\u001b[0m\n\u001b[0m\u001b[1;32m    251\u001b[0m         \u001b[0;32mreturn\u001b[0m \u001b[0mimg\u001b[0m\u001b[0;34m.\u001b[0m\u001b[0mconvert\u001b[0m\u001b[0;34m(\u001b[0m\u001b[0;34m'RGB'\u001b[0m\u001b[0;34m)\u001b[0m\u001b[0;34m\u001b[0m\u001b[0;34m\u001b[0m\u001b[0m\n\u001b[1;32m    252\u001b[0m \u001b[0;34m\u001b[0m\u001b[0m\n",
            "\u001b[0;32m/usr/local/lib/python3.7/dist-packages/PIL/Image.py\u001b[0m in \u001b[0;36mopen\u001b[0;34m(fp, mode)\u001b[0m\n\u001b[1;32m   2850\u001b[0m         \u001b[0mexclusive_fp\u001b[0m \u001b[0;34m=\u001b[0m \u001b[0;32mTrue\u001b[0m\u001b[0;34m\u001b[0m\u001b[0;34m\u001b[0m\u001b[0m\n\u001b[1;32m   2851\u001b[0m \u001b[0;34m\u001b[0m\u001b[0m\n\u001b[0;32m-> 2852\u001b[0;31m     \u001b[0mprefix\u001b[0m \u001b[0;34m=\u001b[0m \u001b[0mfp\u001b[0m\u001b[0;34m.\u001b[0m\u001b[0mread\u001b[0m\u001b[0;34m(\u001b[0m\u001b[0;36m16\u001b[0m\u001b[0;34m)\u001b[0m\u001b[0;34m\u001b[0m\u001b[0;34m\u001b[0m\u001b[0m\n\u001b[0m\u001b[1;32m   2853\u001b[0m \u001b[0;34m\u001b[0m\u001b[0m\n\u001b[1;32m   2854\u001b[0m     \u001b[0mpreinit\u001b[0m\u001b[0;34m(\u001b[0m\u001b[0;34m)\u001b[0m\u001b[0;34m\u001b[0m\u001b[0;34m\u001b[0m\u001b[0m\n",
            "\u001b[0;31mKeyboardInterrupt\u001b[0m: "
          ]
        }
      ]
    },
    {
      "cell_type": "code",
      "metadata": {
        "colab": {
          "base_uri": "https://localhost:8080/",
          "height": 107
        },
        "id": "Lt5oo5doYOh5",
        "outputId": "14dc8510-b1fd-4e4e-e577-54b1bde19da7"
      },
      "source": [
        "'''\n",
        "#testing again\n",
        "#set to evaluation mode\n",
        "plt.ion()\n",
        "\n",
        "import torchvision.utils\n",
        "\n",
        "model.eval()\n",
        "\n",
        "def to_img(x):\n",
        "    x = 0.5 * (x + 1)\n",
        "    x = x.clamp(0, 1)\n",
        "    return x\n",
        "    \n",
        "# autoencoder reconstruction\n",
        "\n",
        "print('Reconstructed images')\n",
        "\n",
        "with torch.no_grad():\n",
        "  for count in range(1,25):\n",
        "\n",
        "    loadlatent=torch.from_numpy(np.loadtxt(\"/content/drive/My Drive/Encoded_values/Latent_{}.txt\".format(count)))\n",
        "    loadlatent=torch.unsqueeze(torch.reshape(loadlatent,(81,32,32)),0)\n",
        "    loadlatent=loadlatent.type(torch.float32)\n",
        "\n",
        "    loadI1=torch.from_numpy(np.loadtxt(\"/content/drive/My Drive/Encoded_values/I1_{}.txt\".format(count)))\n",
        "    loadI1=torch.unsqueeze(torch.reshape(loadI1,(27,64,64)),0)\n",
        "    loadI1=loadI1.type(torch.int64)\n",
        "\n",
        "    loadI2=torch.from_numpy(np.loadtxt(\"/content/drive/My Drive/Encoded_values/I2_{}.txt\".format(count)))\n",
        "    loadI2=torch.unsqueeze(torch.reshape(loadI2,(81,32,32)),0)\n",
        "    loadI2=loadI2.type(torch.int64)\n",
        "\n",
        "    image_batch_recon=model.Decoder(loadlatent, loadI1, loadI2)\n",
        "\n",
        "    # reconstruction error\n",
        "    loss = F.mse_loss(image_batch_recon, image_batch)\n",
        "\n",
        "    test_loss_avg += loss.item()\n",
        "    num_batches += 1\n",
        "\n",
        "    image_batch_recon = image_batch_recon.cpu()\n",
        "    image_batch_recon = to_img(image_batch_recon)\n",
        "    np_imagegrid = torchvision.utils.make_grid(image_batch_recon[:24], 10, 5).numpy()\n",
        "    plt.imshow(np.transpose(np_imagegrid, (1, 2, 0)))\n",
        "    plt.show()\n",
        "\n",
        "      \n",
        "  test_loss_avg /= num_batches\n",
        "  print('average reconstruction error: %f' % (test_loss_avg))\n",
        "'''\n",
        "  "
      ],
      "execution_count": null,
      "outputs": [
        {
          "output_type": "execute_result",
          "data": {
            "application/vnd.google.colaboratory.intrinsic+json": {
              "type": "string"
            },
            "text/plain": [
              "'\\n#testing again\\n#set to evaluation mode\\nplt.ion()\\n\\nimport torchvision.utils\\n\\nmodel.eval()\\n\\ndef to_img(x):\\n    x = 0.5 * (x + 1)\\n    x = x.clamp(0, 1)\\n    return x\\n    \\n# autoencoder reconstruction\\n\\nprint(\\'Reconstructed images\\')\\n\\nwith torch.no_grad():\\n  for count in range(1,25):\\n\\n    loadlatent=torch.from_numpy(np.loadtxt(\"/content/drive/My Drive/Encoded_values/Latent_{}.txt\".format(count)))\\n    loadlatent=torch.unsqueeze(torch.reshape(loadlatent,(81,32,32)),0)\\n    loadlatent=loadlatent.type(torch.float32)\\n\\n    loadI1=torch.from_numpy(np.loadtxt(\"/content/drive/My Drive/Encoded_values/I1_{}.txt\".format(count)))\\n    loadI1=torch.unsqueeze(torch.reshape(loadI1,(27,64,64)),0)\\n    loadI1=loadI1.type(torch.int64)\\n\\n    loadI2=torch.from_numpy(np.loadtxt(\"/content/drive/My Drive/Encoded_values/I2_{}.txt\".format(count)))\\n    loadI2=torch.unsqueeze(torch.reshape(loadI2,(81,32,32)),0)\\n    loadI2=loadI2.type(torch.int64)\\n\\n    image_batch_recon=model.Decoder(loadlatent, loadI1, loadI2)\\n\\n    # reconstruction error\\n    loss = F.mse_loss(image_batch_recon, image_batch)\\n\\n    test_loss_avg += loss.item()\\n    num_batches += 1\\n\\n    image_batch_recon = image_batch_recon.cpu()\\n    image_batch_recon = to_img(image_batch_recon)\\n    np_imagegrid = torchvision.utils.make_grid(image_batch_recon[:24], 10, 5).numpy()\\n    plt.imshow(np.transpose(np_imagegrid, (1, 2, 0)))\\n    plt.show()\\n\\n      \\n  test_loss_avg /= num_batches\\n  print(\\'average reconstruction error: %f\\' % (test_loss_avg))\\n'"
            ]
          },
          "metadata": {
            "tags": []
          },
          "execution_count": 12
        }
      ]
    },
    {
      "cell_type": "code",
      "metadata": {
        "id": "qXtvYEqog3bG",
        "colab": {
          "base_uri": "https://localhost:8080/",
          "height": 107
        },
        "outputId": "3f3b0206-0c7e-41ae-ec71-d4af54eeacfa"
      },
      "source": [
        "'''#testing\n",
        "#set to evaluation mode\n",
        "\n",
        "import numpy as np\n",
        "\n",
        "model.eval()\n",
        "\n",
        "def loadLatent(dataloader, latent_path, I1_path, I2_path):\n",
        "\n",
        "  count=0\n",
        "  test_loss_avg, num_batches = 0, 0\n",
        "\n",
        "  for image_batch, _ in dataloader:  \n",
        "      with torch.no_grad():\n",
        "          image_batch = image_batch.to(device)\n",
        "          # autoencoder reconstruction\n",
        "          L,I1,I2 = model.Encoder(image_batch)\n",
        "          \n",
        "          b=len(image_batch)\n",
        "          for i in range(b):\n",
        "              count+=1\n",
        "              L_image=torch.reshape(L[i] , (L.shape[1]*L.shape[2] , L.shape[3] ))\n",
        "              I1_image=torch.reshape(I1[i] , (I1.shape[1]*I1.shape[2] , I1.shape[3] ))\n",
        "              I2_image=torch.reshape(I2[i] , (I2.shape[1]*I2.shape[2] , I2.shape[3] ))\n",
        "                  \n",
        "              np.savetxt(latent_path, L_image )\n",
        "              np.savetxt(I1_path, I1_image )\n",
        "              np.savetxt(I2_path, I2_image )\n",
        "        \n",
        "test_latent = \"/content/drive/My Drive/Encoded_values/Latent_{}.txt\".format(count)\n",
        "test_I1= \"/content/drive/My Drive/Encoded_values/I1_{}.txt\".format(count)\n",
        "test_I2= \"/content/drive/My Drive/Encoded_values/I2_{}.txt\".format(count)\n",
        "loadLatent(test_dataloader,test_latent,test_I1,test_I2)\n",
        "'''"
      ],
      "execution_count": null,
      "outputs": [
        {
          "output_type": "execute_result",
          "data": {
            "application/vnd.google.colaboratory.intrinsic+json": {
              "type": "string"
            },
            "text/plain": [
              "'#testing\\n#set to evaluation mode\\n\\nimport numpy as np\\n\\nmodel.eval()\\n\\ndef loadLatent(dataloader, latent_path, I1_path, I2_path):\\n\\n  count=0\\n  test_loss_avg, num_batches = 0, 0\\n\\n  for image_batch, _ in dataloader:  \\n      with torch.no_grad():\\n          image_batch = image_batch.to(device)\\n          # autoencoder reconstruction\\n          L,I1,I2 = model.Encoder(image_batch)\\n          \\n          b=len(image_batch)\\n          for i in range(b):\\n              count+=1\\n              L_image=torch.reshape(L[i] , (L.shape[1]*L.shape[2] , L.shape[3] ))\\n              I1_image=torch.reshape(I1[i] , (I1.shape[1]*I1.shape[2] , I1.shape[3] ))\\n              I2_image=torch.reshape(I2[i] , (I2.shape[1]*I2.shape[2] , I2.shape[3] ))\\n                  \\n              np.savetxt(latent_path, L_image )\\n              np.savetxt(I1_path, I1_image )\\n              np.savetxt(I2_path, I2_image )\\n        \\ntest_latent = \"/content/drive/My Drive/Encoded_values/Latent_{}.txt\".format(count)\\ntest_I1= \"/content/drive/My Drive/Encoded_values/I1_{}.txt\".format(count)\\ntest_I2= \"/content/drive/My Drive/Encoded_values/I2_{}.txt\".format(count)\\nloadLatent(test_dataloader,test_latent,test_I1,test_I2)\\n'"
            ]
          },
          "metadata": {
            "tags": []
          },
          "execution_count": 13
        }
      ]
    }
  ]
}